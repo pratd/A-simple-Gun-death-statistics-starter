{
 "cells": [
  {
   "cell_type": "code",
   "execution_count": 14,
   "metadata": {
    "collapsed": false
   },
   "outputs": [],
   "source": [
    "import csv #import libraries\n",
    "import math\n",
    "import datetime\n",
    "import re"
   ]
  },
  {
   "cell_type": "code",
   "execution_count": 15,
   "metadata": {
    "collapsed": true
   },
   "outputs": [],
   "source": [
    "f = open('guns.csv','r')\n",
    "csvreader = csv.reader(f)\n",
    "data   = list(csvreader)"
   ]
  },
  {
   "cell_type": "code",
   "execution_count": 16,
   "metadata": {
    "collapsed": false
   },
   "outputs": [
    {
     "name": "stdout",
     "output_type": "stream",
     "text": [
      "[['', 'year', 'month', 'intent', 'police', 'sex', 'age', 'race', 'hispanic', 'place', 'education'], ['1', '2012', '01', 'Suicide', '0', 'M', '34', 'Asian/Pacific Islander', '100', 'Home', '4'], ['2', '2012', '01', 'Suicide', '0', 'F', '21', 'White', '100', 'Street', '3'], ['3', '2012', '01', 'Suicide', '0', 'M', '60', 'White', '100', 'Other specified', '4']]\n",
      "['', 'year', 'month', 'intent', 'police', 'sex', 'age', 'race', 'hispanic', 'place', 'education']\n",
      "[['1', '2012', '01', 'Suicide', '0', 'M', '34', 'Asian/Pacific Islander', '100', 'Home', '4'], ['2', '2012', '01', 'Suicide', '0', 'F', '21', 'White', '100', 'Street', '3'], ['3', '2012', '01', 'Suicide', '0', 'M', '60', 'White', '100', 'Other specified', '4'], ['4', '2012', '02', 'Suicide', '0', 'M', '64', 'White', '100', 'Home', '4'], ['5', '2012', '02', 'Suicide', '0', 'M', '31', 'White', '100', 'Other specified', '2']]\n"
     ]
    }
   ],
   "source": [
    "print(data[0:4])\n",
    "headers = data[0]\n",
    "data.remove(data[0]) # headers removal\n",
    "print(headers)\n",
    "print(data[0:5])"
   ]
  },
  {
   "cell_type": "markdown",
   "metadata": {},
   "source": [
    "Next we loop through contents to extract relevant information"
   ]
  },
  {
   "cell_type": "code",
   "execution_count": 17,
   "metadata": {
    "collapsed": false
   },
   "outputs": [
    {
     "name": "stdout",
     "output_type": "stream",
     "text": [
      "{'2013': 33636, '2014': 33599, '2012': 33563}\n"
     ]
    }
   ],
   "source": [
    "years =[]\n",
    "for item in data:\n",
    "    years.append(item[1])\n",
    "year_counts={}\n",
    "for item in years:\n",
    "    if item in year_counts is not None:\n",
    "        year_counts[item] +=1\n",
    "    else:\n",
    "        year_counts[item] = 1\n",
    "print(year_counts)"
   ]
  },
  {
   "cell_type": "markdown",
   "metadata": {},
   "source": [
    "We use list comprehension to extract dates"
   ]
  },
  {
   "cell_type": "code",
   "execution_count": 18,
   "metadata": {
    "collapsed": false
   },
   "outputs": [
    {
     "name": "stdout",
     "output_type": "stream",
     "text": [
      "[datetime.datetime(2012, 1, 1, 0, 0), datetime.datetime(2012, 1, 1, 0, 0), datetime.datetime(2012, 1, 1, 0, 0), datetime.datetime(2012, 2, 1, 0, 0)]\n"
     ]
    }
   ],
   "source": [
    "dates=[]\n",
    "for item in data:\n",
    "    try:\n",
    "        temp1 = int(item[1])\n",
    "    except Exception:\n",
    "        temp1 = 0\n",
    "    try: \n",
    "        temp2 = int(item[2])\n",
    "    except Exception:\n",
    "        temp2 = 0\n",
    "    dates.append(datetime.datetime(year=temp1,month=temp2,day=1))   \n",
    "print(dates[0:4])"
   ]
  },
  {
   "cell_type": "markdown",
   "metadata": {
    "collapsed": false
   },
   "source": [
    "Displaying date counts"
   ]
  },
  {
   "cell_type": "code",
   "execution_count": 19,
   "metadata": {
    "collapsed": false
   },
   "outputs": [
    {
     "name": "stdout",
     "output_type": "stream",
     "text": [
      "{datetime.datetime(2013, 11, 1, 0, 0): 2758, datetime.datetime(2012, 6, 1, 0, 0): 2826, datetime.datetime(2012, 10, 1, 0, 0): 2733, datetime.datetime(2013, 2, 1, 0, 0): 2375, datetime.datetime(2013, 10, 1, 0, 0): 2808, datetime.datetime(2012, 4, 1, 0, 0): 2795, datetime.datetime(2014, 6, 1, 0, 0): 2931, datetime.datetime(2014, 7, 1, 0, 0): 2884, datetime.datetime(2012, 12, 1, 0, 0): 2791, datetime.datetime(2014, 8, 1, 0, 0): 2970, datetime.datetime(2012, 2, 1, 0, 0): 2357, datetime.datetime(2013, 3, 1, 0, 0): 2862, datetime.datetime(2013, 5, 1, 0, 0): 2806, datetime.datetime(2012, 7, 1, 0, 0): 3026, datetime.datetime(2014, 2, 1, 0, 0): 2361, datetime.datetime(2014, 3, 1, 0, 0): 2684, datetime.datetime(2014, 5, 1, 0, 0): 2864, datetime.datetime(2012, 8, 1, 0, 0): 2954, datetime.datetime(2014, 12, 1, 0, 0): 2857, datetime.datetime(2012, 11, 1, 0, 0): 2729, datetime.datetime(2013, 6, 1, 0, 0): 2920, datetime.datetime(2014, 10, 1, 0, 0): 2865, datetime.datetime(2012, 1, 1, 0, 0): 2758, datetime.datetime(2013, 8, 1, 0, 0): 2859, datetime.datetime(2012, 5, 1, 0, 0): 2999, datetime.datetime(2013, 1, 1, 0, 0): 2864, datetime.datetime(2013, 9, 1, 0, 0): 2742, datetime.datetime(2014, 11, 1, 0, 0): 2756, datetime.datetime(2013, 7, 1, 0, 0): 3079, datetime.datetime(2014, 1, 1, 0, 0): 2651, datetime.datetime(2012, 3, 1, 0, 0): 2743, datetime.datetime(2013, 12, 1, 0, 0): 2765, datetime.datetime(2014, 4, 1, 0, 0): 2862, datetime.datetime(2013, 4, 1, 0, 0): 2798, datetime.datetime(2014, 9, 1, 0, 0): 2914, datetime.datetime(2012, 9, 1, 0, 0): 2852}\n"
     ]
    }
   ],
   "source": [
    "date_counts={}\n",
    "for date in dates:\n",
    "    if date in date_counts is not None:\n",
    "        date_counts[date]+=1\n",
    "    else:\n",
    "        date_counts[date]=1\n",
    "print(date_counts)"
   ]
  },
  {
   "cell_type": "markdown",
   "metadata": {
    "collapsed": true
   },
   "source": [
    "Following codes will denote the number of gun deaths by sex and race statistics"
   ]
  },
  {
   "cell_type": "code",
   "execution_count": 20,
   "metadata": {
    "collapsed": false
   },
   "outputs": [
    {
     "name": "stdout",
     "output_type": "stream",
     "text": [
      "{'M': 86349, 'F': 14449}\n",
      "{'Native American/Native Alaskan': 917, 'Asian/Pacific Islander': 1326, 'White': 66237, 'Hispanic': 9022, 'Black': 23296}\n"
     ]
    }
   ],
   "source": [
    "sex_counts={}\n",
    "for item in data:\n",
    "    if item[5] in sex_counts is not None:\n",
    "        sex_counts[item[5]] +=1\n",
    "    else:\n",
    "        sex_counts[item[5]] = 1\n",
    "print(sex_counts)\n",
    "race_counts={}\n",
    "for item in data:\n",
    "    if item[7] in race_counts is not None:\n",
    "        race_counts[item[7]] +=1\n",
    "    else:\n",
    "        race_counts[item[7]] = 1\n",
    "print(race_counts)\n"
   ]
  },
  {
   "cell_type": "code",
   "execution_count": 21,
   "metadata": {
    "collapsed": false
   },
   "outputs": [
    {
     "name": "stdout",
     "output_type": "stream",
     "text": [
      "[['Id', 'Year', 'Id', 'Sex', 'Id', 'Hispanic Origin', 'Id', 'Id2', 'Geography', 'Total', 'Race Alone - White', 'Race Alone - Hispanic', 'Race Alone - Black or African American', 'Race Alone - American Indian and Alaska Native', 'Race Alone - Asian', 'Race Alone - Native Hawaiian and Other Pacific Islander', 'Two or More Races'], ['cen42010', 'April 1, 2010 Census', 'totsex', 'Both Sexes', 'tothisp', 'Total', '0100000US', '', 'United States', '308745538', '197318956', '44618105', '40250635', '3739506', '15159516', '674625', '6984195']]\n"
     ]
    }
   ],
   "source": [
    "f = open('census.csv','r')\n",
    "csvreader = csv.reader(f)\n",
    "census   = list(csvreader)\n",
    "print(census) #the total population"
   ]
  },
  {
   "cell_type": "markdown",
   "metadata": {},
   "source": [
    "Now, we manipulate data to get deaths per hundred thousand people based on the category of race"
   ]
  },
  {
   "cell_type": "code",
   "execution_count": 37,
   "metadata": {
    "collapsed": false
   },
   "outputs": [
    {
     "name": "stdout",
     "output_type": "stream",
     "text": [
      "{' Black or African American': 40250635, ' Hispanic': 44618105, ' White': 197318956, ' Asian/ Native Hawaiian and Other Pacific Islander': 15834141, ' American Indian and Alaska Native': 3739506}\n"
     ]
    }
   ],
   "source": [
    "mapping={}\n",
    "mapping[census[0][10].split('-')[1]]=int(census[1][10])\n",
    "mapping[census[0][11].split('-')[1]]=int(census[1][11])\n",
    "mapping[census[0][12].split('-')[1]]=int(census[1][12])\n",
    "mapping[census[0][13].split('-')[1]]=int(census[1][13])\n",
    "mapping[census[0][14].split('-')[1]+'/'+census[0][15].split('-')[1]]=int(census[1][14]) + int(census[1][15])\n",
    "print(mapping)"
   ]
  },
  {
   "cell_type": "markdown",
   "metadata": {},
   "source": [
    "Next we rename the column names "
   ]
  },
  {
   "cell_type": "code",
   "execution_count": 38,
   "metadata": {
    "collapsed": false
   },
   "outputs": [],
   "source": [
    "mapping['Black']=mapping[' Black or African American']\n",
    "del mapping[' Black or African American']\n",
    "mapping['Asian/Pacific Islander']=mapping[' Asian/ Native Hawaiian and Other Pacific Islander']\n",
    "del mapping[' Asian/ Native Hawaiian and Other Pacific Islander']\n",
    "mapping['Native American/Native Alaskan']=mapping[' American Indian and Alaska Native']\n",
    "del mapping[' American Indian and Alaska Native']\n",
    "mapping['Hispanic']=mapping[' Hispanic']\n",
    "del mapping[' Hispanic']\n",
    "mapping['White']=mapping[' White']\n",
    "del mapping[' White']"
   ]
  },
  {
   "cell_type": "code",
   "execution_count": 45,
   "metadata": {
    "collapsed": false
   },
   "outputs": [
    {
     "name": "stdout",
     "output_type": "stream",
     "text": [
      "{'Native American/Native Alaskan': 24.521955573811088, 'Asian/Pacific Islander': 8.374309664161762, 'White': 33.56849303419181, 'Hispanic': 20.220491210910907, 'Black': 57.8773477735196}\n"
     ]
    }
   ],
   "source": [
    "#creating an empty dictionary\n",
    "race_per_hundredk = {}\n",
    "#making the data per hundredk\n",
    "for item,value in race_counts.items():\n",
    "    race_per_hundredk[item]= race_counts.get(item)/mapping.get(item) * 100000\n",
    "print(race_per_hundredk)"
   ]
  },
  {
   "cell_type": "markdown",
   "metadata": {},
   "source": [
    "Filtering our results only for Homicides "
   ]
  },
  {
   "cell_type": "code",
   "execution_count": 73,
   "metadata": {
    "collapsed": false
   },
   "outputs": [
    {
     "name": "stdout",
     "output_type": "stream",
     "text": [
      "{'Native American/Native Alaskan': 326, 'Asian/Pacific Islander': 559, 'White': 9147, 'Hispanic': 5634, 'Black': 19510}\n"
     ]
    }
   ],
   "source": [
    "intents=[]\n",
    "for item in data:\n",
    "    intents.append(item[3])\n",
    "races=[]\n",
    "for item in data:\n",
    "    races.append(item[7])\n",
    "homicide_race_counts={}\n",
    "for item,value in enumerate(races):\n",
    "    i=item\n",
    "    race=value\n",
    "    if intents[i] == 'Homicide':\n",
    "        if race in homicide_race_counts is not None:\n",
    "            homicide_race_counts[race]+=1\n",
    "        else:\n",
    "            homicide_race_counts[race]=1\n",
    "print(homicide_race_counts)\n"
   ]
  },
  {
   "cell_type": "markdown",
   "metadata": {},
   "source": [
    "Now we repeat the same idea for number of gun deaths per hudredk for homicides only"
   ]
  },
  {
   "cell_type": "code",
   "execution_count": 75,
   "metadata": {
    "collapsed": false
   },
   "outputs": [
    {
     "name": "stdout",
     "output_type": "stream",
     "text": [
      "{'Native American/Native Alaskan': 8.717729026240365, 'Asian/Pacific Islander': 3.530346230970155, 'White': 4.6356417981453335, 'Hispanic': 12.627161104219914, 'Black': 48.471284987180944}\n"
     ]
    }
   ],
   "source": [
    "#creating an empty dictionary\n",
    "race_per_hundredk_homi = {}\n",
    "#making the data per hundredk\n",
    "for item,value in race_counts.items():\n",
    "    race_per_hundredk_homi[item]= homicide_race_counts.get(item)/mapping.get(item) * 100000\n",
    "print(race_per_hundredk_homi)"
   ]
  },
  {
   "cell_type": "markdown",
   "metadata": {},
   "source": [
    "Thus it could be easily concluded that homicides by guns are higher for African American communities by a large extent and same is true for total gun deaths per 100k. However, one interesting observation is that 'White' communities have higher gun deaths per 100k compared to other ethnic minorities ( except 'African-American' ) but the total homicides in 'White' are marginal."
   ]
  }
 ],
 "metadata": {
  "kernelspec": {
   "display_name": "Python 3",
   "language": "python",
   "name": "python3"
  },
  "language_info": {
   "codemirror_mode": {
    "name": "ipython",
    "version": 3
   },
   "file_extension": ".py",
   "mimetype": "text/x-python",
   "name": "python",
   "nbconvert_exporter": "python",
   "pygments_lexer": "ipython3",
   "version": "3.4.3"
  }
 },
 "nbformat": 4,
 "nbformat_minor": 0
}
